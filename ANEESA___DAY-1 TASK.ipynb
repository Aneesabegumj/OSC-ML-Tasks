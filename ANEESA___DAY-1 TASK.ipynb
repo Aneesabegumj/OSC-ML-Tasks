{
 "cells": [
  {
   "cell_type": "markdown",
   "id": "69f35643",
   "metadata": {},
   "source": [
    "# DAY-1 TASK"
   ]
  },
  {
   "cell_type": "code",
   "execution_count": 37,
   "id": "97a61753",
   "metadata": {},
   "outputs": [],
   "source": [
    "# Importing the necessary libraries\n",
    "\n",
    "import numpy as np\n",
    "import pandas as pd\n",
    "import matplotlib.pyplot as plt\n",
    "import seaborn as sns"
   ]
  },
  {
   "cell_type": "code",
   "execution_count": 38,
   "id": "9af5a080",
   "metadata": {},
   "outputs": [
    {
     "data": {
      "text/html": [
       "<div>\n",
       "<style scoped>\n",
       "    .dataframe tbody tr th:only-of-type {\n",
       "        vertical-align: middle;\n",
       "    }\n",
       "\n",
       "    .dataframe tbody tr th {\n",
       "        vertical-align: top;\n",
       "    }\n",
       "\n",
       "    .dataframe thead th {\n",
       "        text-align: right;\n",
       "    }\n",
       "</style>\n",
       "<table border=\"1\" class=\"dataframe\">\n",
       "  <thead>\n",
       "    <tr style=\"text-align: right;\">\n",
       "      <th></th>\n",
       "      <th>study_hours</th>\n",
       "      <th>gpa</th>\n",
       "    </tr>\n",
       "  </thead>\n",
       "  <tbody>\n",
       "    <tr>\n",
       "      <th>0</th>\n",
       "      <td>10.0</td>\n",
       "      <td>4.00</td>\n",
       "    </tr>\n",
       "    <tr>\n",
       "      <th>1</th>\n",
       "      <td>25.0</td>\n",
       "      <td>3.80</td>\n",
       "    </tr>\n",
       "    <tr>\n",
       "      <th>2</th>\n",
       "      <td>45.0</td>\n",
       "      <td>3.93</td>\n",
       "    </tr>\n",
       "    <tr>\n",
       "      <th>3</th>\n",
       "      <td>10.0</td>\n",
       "      <td>3.40</td>\n",
       "    </tr>\n",
       "    <tr>\n",
       "      <th>4</th>\n",
       "      <td>4.0</td>\n",
       "      <td>3.20</td>\n",
       "    </tr>\n",
       "    <tr>\n",
       "      <th>...</th>\n",
       "      <td>...</td>\n",
       "      <td>...</td>\n",
       "    </tr>\n",
       "    <tr>\n",
       "      <th>188</th>\n",
       "      <td>24.0</td>\n",
       "      <td>3.60</td>\n",
       "    </tr>\n",
       "    <tr>\n",
       "      <th>189</th>\n",
       "      <td>12.0</td>\n",
       "      <td>3.70</td>\n",
       "    </tr>\n",
       "    <tr>\n",
       "      <th>190</th>\n",
       "      <td>15.0</td>\n",
       "      <td>3.84</td>\n",
       "    </tr>\n",
       "    <tr>\n",
       "      <th>191</th>\n",
       "      <td>10.0</td>\n",
       "      <td>3.80</td>\n",
       "    </tr>\n",
       "    <tr>\n",
       "      <th>192</th>\n",
       "      <td>15.0</td>\n",
       "      <td>3.10</td>\n",
       "    </tr>\n",
       "  </tbody>\n",
       "</table>\n",
       "<p>193 rows × 2 columns</p>\n",
       "</div>"
      ],
      "text/plain": [
       "     study_hours   gpa\n",
       "0           10.0  4.00\n",
       "1           25.0  3.80\n",
       "2           45.0  3.93\n",
       "3           10.0  3.40\n",
       "4            4.0  3.20\n",
       "..           ...   ...\n",
       "188         24.0  3.60\n",
       "189         12.0  3.70\n",
       "190         15.0  3.84\n",
       "191         10.0  3.80\n",
       "192         15.0  3.10\n",
       "\n",
       "[193 rows x 2 columns]"
      ]
     },
     "execution_count": 38,
     "metadata": {},
     "output_type": "execute_result"
    }
   ],
   "source": [
    "# Importing the Dataset\n",
    "\n",
    "df=pd.read_excel(\"C:\\\\Users\\\\Aneesa\\\\gpa_study_hours.excel.xlsx\")\n",
    "df"
   ]
  },
  {
   "cell_type": "code",
   "execution_count": 39,
   "id": "a2afa04a",
   "metadata": {},
   "outputs": [
    {
     "data": {
      "text/html": [
       "<div>\n",
       "<style scoped>\n",
       "    .dataframe tbody tr th:only-of-type {\n",
       "        vertical-align: middle;\n",
       "    }\n",
       "\n",
       "    .dataframe tbody tr th {\n",
       "        vertical-align: top;\n",
       "    }\n",
       "\n",
       "    .dataframe thead th {\n",
       "        text-align: right;\n",
       "    }\n",
       "</style>\n",
       "<table border=\"1\" class=\"dataframe\">\n",
       "  <thead>\n",
       "    <tr style=\"text-align: right;\">\n",
       "      <th></th>\n",
       "      <th>study_hours</th>\n",
       "      <th>gpa</th>\n",
       "    </tr>\n",
       "  </thead>\n",
       "  <tbody>\n",
       "    <tr>\n",
       "      <th>0</th>\n",
       "      <td>10.0</td>\n",
       "      <td>4.00</td>\n",
       "    </tr>\n",
       "    <tr>\n",
       "      <th>1</th>\n",
       "      <td>25.0</td>\n",
       "      <td>3.80</td>\n",
       "    </tr>\n",
       "    <tr>\n",
       "      <th>2</th>\n",
       "      <td>45.0</td>\n",
       "      <td>3.93</td>\n",
       "    </tr>\n",
       "    <tr>\n",
       "      <th>3</th>\n",
       "      <td>10.0</td>\n",
       "      <td>3.40</td>\n",
       "    </tr>\n",
       "    <tr>\n",
       "      <th>4</th>\n",
       "      <td>4.0</td>\n",
       "      <td>3.20</td>\n",
       "    </tr>\n",
       "    <tr>\n",
       "      <th>5</th>\n",
       "      <td>10.0</td>\n",
       "      <td>3.52</td>\n",
       "    </tr>\n",
       "    <tr>\n",
       "      <th>6</th>\n",
       "      <td>24.0</td>\n",
       "      <td>3.68</td>\n",
       "    </tr>\n",
       "    <tr>\n",
       "      <th>7</th>\n",
       "      <td>40.0</td>\n",
       "      <td>3.40</td>\n",
       "    </tr>\n",
       "    <tr>\n",
       "      <th>8</th>\n",
       "      <td>10.0</td>\n",
       "      <td>3.70</td>\n",
       "    </tr>\n",
       "    <tr>\n",
       "      <th>9</th>\n",
       "      <td>10.0</td>\n",
       "      <td>3.75</td>\n",
       "    </tr>\n",
       "  </tbody>\n",
       "</table>\n",
       "</div>"
      ],
      "text/plain": [
       "   study_hours   gpa\n",
       "0         10.0  4.00\n",
       "1         25.0  3.80\n",
       "2         45.0  3.93\n",
       "3         10.0  3.40\n",
       "4          4.0  3.20\n",
       "5         10.0  3.52\n",
       "6         24.0  3.68\n",
       "7         40.0  3.40\n",
       "8         10.0  3.70\n",
       "9         10.0  3.75"
      ]
     },
     "execution_count": 39,
     "metadata": {},
     "output_type": "execute_result"
    }
   ],
   "source": [
    "# Checking the head of the dataset\n",
    "\n",
    "df.head(10)"
   ]
  },
  {
   "cell_type": "code",
   "execution_count": 40,
   "id": "c752631d",
   "metadata": {},
   "outputs": [
    {
     "name": "stdout",
     "output_type": "stream",
     "text": [
      "<class 'pandas.core.frame.DataFrame'>\n",
      "RangeIndex: 193 entries, 0 to 192\n",
      "Data columns (total 2 columns):\n",
      " #   Column       Non-Null Count  Dtype  \n",
      "---  ------       --------------  -----  \n",
      " 0   study_hours  193 non-null    float64\n",
      " 1   gpa          193 non-null    float64\n",
      "dtypes: float64(2)\n",
      "memory usage: 3.1 KB\n"
     ]
    }
   ],
   "source": [
    "# Checking the info of the dataset\n",
    "\n",
    "df.info()"
   ]
  },
  {
   "cell_type": "code",
   "execution_count": 41,
   "id": "acf6c9f2",
   "metadata": {},
   "outputs": [
    {
     "data": {
      "text/plain": [
       "(193, 2)"
      ]
     },
     "execution_count": 41,
     "metadata": {},
     "output_type": "execute_result"
    }
   ],
   "source": [
    "# Checking the shape of the dataset\n",
    "\n",
    "df.shape"
   ]
  },
  {
   "cell_type": "code",
   "execution_count": 42,
   "id": "bf749ae1",
   "metadata": {},
   "outputs": [
    {
     "data": {
      "text/plain": [
       "study_hours    0\n",
       "gpa            0\n",
       "dtype: int64"
      ]
     },
     "execution_count": 42,
     "metadata": {},
     "output_type": "execute_result"
    }
   ],
   "source": [
    "# Checking for the null values \n",
    "\n",
    "df.isnull().sum()"
   ]
  },
  {
   "cell_type": "code",
   "execution_count": 43,
   "id": "bdbfd30e",
   "metadata": {},
   "outputs": [],
   "source": [
    "#Splitting the dataset into Independent(X) and Dependent(y) Variables\n",
    "\n",
    "x =df.iloc[:, :-1].values\n",
    "y =df.iloc[ :, -1].values"
   ]
  },
  {
   "cell_type": "code",
   "execution_count": 44,
   "id": "91ad5eaa",
   "metadata": {},
   "outputs": [
    {
     "data": {
      "text/plain": [
       "array([[10. ],\n",
       "       [25. ],\n",
       "       [45. ],\n",
       "       [10. ],\n",
       "       [ 4. ],\n",
       "       [10. ],\n",
       "       [24. ],\n",
       "       [40. ],\n",
       "       [10. ],\n",
       "       [10. ],\n",
       "       [30. ],\n",
       "       [ 7. ],\n",
       "       [15. ],\n",
       "       [60. ],\n",
       "       [10. ],\n",
       "       [10. ],\n",
       "       [ 6. ],\n",
       "       [20. ],\n",
       "       [ 8. ],\n",
       "       [30. ],\n",
       "       [35. ],\n",
       "       [12. ],\n",
       "       [ 6. ],\n",
       "       [20. ],\n",
       "       [10. ],\n",
       "       [14. ],\n",
       "       [10. ],\n",
       "       [10. ],\n",
       "       [30. ],\n",
       "       [20. ],\n",
       "       [ 7. ],\n",
       "       [20. ],\n",
       "       [16. ],\n",
       "       [14. ],\n",
       "       [21. ],\n",
       "       [21. ],\n",
       "       [11. ],\n",
       "       [10. ],\n",
       "       [10. ],\n",
       "       [15. ],\n",
       "       [10. ],\n",
       "       [10. ],\n",
       "       [20. ],\n",
       "       [10. ],\n",
       "       [10. ],\n",
       "       [12. ],\n",
       "       [25. ],\n",
       "       [20. ],\n",
       "       [25. ],\n",
       "       [15. ],\n",
       "       [10. ],\n",
       "       [40. ],\n",
       "       [15. ],\n",
       "       [10. ],\n",
       "       [10. ],\n",
       "       [25. ],\n",
       "       [25. ],\n",
       "       [36. ],\n",
       "       [30. ],\n",
       "       [14. ],\n",
       "       [ 2. ],\n",
       "       [10. ],\n",
       "       [ 5. ],\n",
       "       [ 4. ],\n",
       "       [20. ],\n",
       "       [12. ],\n",
       "       [15. ],\n",
       "       [ 3. ],\n",
       "       [10. ],\n",
       "       [15. ],\n",
       "       [25. ],\n",
       "       [15. ],\n",
       "       [10. ],\n",
       "       [15. ],\n",
       "       [ 7. ],\n",
       "       [14. ],\n",
       "       [ 7. ],\n",
       "       [40. ],\n",
       "       [ 6. ],\n",
       "       [10. ],\n",
       "       [10. ],\n",
       "       [20. ],\n",
       "       [20. ],\n",
       "       [69. ],\n",
       "       [ 8. ],\n",
       "       [10. ],\n",
       "       [ 3. ],\n",
       "       [ 8. ],\n",
       "       [15. ],\n",
       "       [45. ],\n",
       "       [10. ],\n",
       "       [18. ],\n",
       "       [10. ],\n",
       "       [10. ],\n",
       "       [35. ],\n",
       "       [10. ],\n",
       "       [ 8. ],\n",
       "       [15. ],\n",
       "       [30. ],\n",
       "       [35. ],\n",
       "       [20. ],\n",
       "       [12. ],\n",
       "       [35. ],\n",
       "       [ 8. ],\n",
       "       [30. ],\n",
       "       [10. ],\n",
       "       [14. ],\n",
       "       [28. ],\n",
       "       [ 7. ],\n",
       "       [20. ],\n",
       "       [15. ],\n",
       "       [24. ],\n",
       "       [20. ],\n",
       "       [20. ],\n",
       "       [20. ],\n",
       "       [25. ],\n",
       "       [15. ],\n",
       "       [16. ],\n",
       "       [10. ],\n",
       "       [35. ],\n",
       "       [15. ],\n",
       "       [20. ],\n",
       "       [40. ],\n",
       "       [ 4. ],\n",
       "       [12. ],\n",
       "       [49. ],\n",
       "       [20. ],\n",
       "       [30. ],\n",
       "       [12. ],\n",
       "       [ 8. ],\n",
       "       [60. ],\n",
       "       [ 6.5],\n",
       "       [20. ],\n",
       "       [18. ],\n",
       "       [10. ],\n",
       "       [40. ],\n",
       "       [21. ],\n",
       "       [12.5],\n",
       "       [12. ],\n",
       "       [20. ],\n",
       "       [10. ],\n",
       "       [10. ],\n",
       "       [20. ],\n",
       "       [20. ],\n",
       "       [10. ],\n",
       "       [30. ],\n",
       "       [15. ],\n",
       "       [20. ],\n",
       "       [15. ],\n",
       "       [14. ],\n",
       "       [ 5. ],\n",
       "       [ 5. ],\n",
       "       [ 8. ],\n",
       "       [ 8. ],\n",
       "       [14. ],\n",
       "       [15. ],\n",
       "       [20. ],\n",
       "       [14. ],\n",
       "       [14. ],\n",
       "       [25. ],\n",
       "       [30. ],\n",
       "       [20. ],\n",
       "       [30. ],\n",
       "       [20. ],\n",
       "       [ 7. ],\n",
       "       [ 8. ],\n",
       "       [20. ],\n",
       "       [14. ],\n",
       "       [20. ],\n",
       "       [60. ],\n",
       "       [15. ],\n",
       "       [20. ],\n",
       "       [15. ],\n",
       "       [ 8. ],\n",
       "       [15. ],\n",
       "       [10. ],\n",
       "       [ 7. ],\n",
       "       [20. ],\n",
       "       [10. ],\n",
       "       [28. ],\n",
       "       [12. ],\n",
       "       [ 5. ],\n",
       "       [30. ],\n",
       "       [ 5. ],\n",
       "       [ 6. ],\n",
       "       [30. ],\n",
       "       [15. ],\n",
       "       [ 9. ],\n",
       "       [24. ],\n",
       "       [12. ],\n",
       "       [15. ],\n",
       "       [10. ],\n",
       "       [15. ]])"
      ]
     },
     "execution_count": 44,
     "metadata": {},
     "output_type": "execute_result"
    }
   ],
   "source": [
    "# Independent variable(study_hours)\n",
    "\n",
    "x"
   ]
  },
  {
   "cell_type": "code",
   "execution_count": 45,
   "id": "9ec49378",
   "metadata": {},
   "outputs": [
    {
     "data": {
      "text/plain": [
       "array([4.   , 3.8  , 3.93 , 3.4  , 3.2  , 3.52 , 3.68 , 3.4  , 3.7  ,\n",
       "       3.75 , 3.3  , 3.425, 3.795, 3.83 , 3.3  , 3.75 , 3.15 , 3.7  ,\n",
       "       3.8  , 3.63 , 3.9  , 3.294, 3.7  , 3.4  , 4.   , 3.4  , 3.7  ,\n",
       "       3.8  , 3.4  , 3.4  , 3.4  , 3.   , 3.6  , 3.567, 3.3  , 3.4  ,\n",
       "       3.6  , 3.67 , 3.82 , 2.9  , 3.9  , 3.4  , 3.6  , 3.1  , 3.4  ,\n",
       "       3.8  , 3.7  , 3.7  , 3.8  , 3.92 , 3.8  , 3.868, 3.35 , 3.85 ,\n",
       "       3.55 , 3.7  , 3.65 , 3.125, 4.   , 3.25 , 3.86 , 3.5  , 3.45 ,\n",
       "       3.6  , 3.866, 3.82 , 3.2  , 3.5  , 3.8  , 3.8  , 3.7  , 3.75 ,\n",
       "       3.3  , 3.875, 3.7  , 3.5  , 3.2  , 3.566, 3.5  , 4.3  , 3.6  ,\n",
       "       3.2  , 3.825, 3.85 , 3.75 , 4.   , 3.4  , 3.9  , 3.825, 3.7  ,\n",
       "       3.8  , 2.91 , 3.559, 3.69 , 3.3  , 3.75 , 3.9  , 3.65 , 3.5  ,\n",
       "       3.6  , 3.675, 3.9  , 3.6  , 3.675, 3.7  , 3.66 , 3.733, 3.7  ,\n",
       "       2.6  , 4.   , 3.2  , 3.16 , 3.5  , 3.65 , 3.9  , 3.785, 3.1  ,\n",
       "       3.15 , 3.61 , 3.3  , 3.7  , 3.7  , 3.75 , 3.4  , 3.6  , 3.5  ,\n",
       "       3.8  , 3.7  , 3.84 , 3.41 , 3.825, 2.95 , 3.925, 3.3  , 3.3  ,\n",
       "       3.6  , 4.   , 3.3  , 3.89 , 3.2  , 3.97 , 3.3  , 3.86 , 3.76 ,\n",
       "       3.5  , 3.6  , 3.55 , 3.97 , 3.925, 3.68 , 3.25 , 3.56 , 2.85 ,\n",
       "       3.6  , 3.45 , 3.5  , 3.15 , 3.35 , 3.5  , 3.79 , 3.022, 3.46 ,\n",
       "       3.55 , 3.97 , 3.925, 3.2  , 3.4  , 3.9  , 3.6  , 3.83 , 3.8  ,\n",
       "       4.   , 3.5  , 3.3  , 4.   , 3.1  , 3.5  , 3.62 , 3.6  , 3.8  ,\n",
       "       3.2  , 3.925, 3.84 , 3.1  , 4.   , 3.35 , 3.925, 3.   , 3.6  ,\n",
       "       3.7  , 3.84 , 3.8  , 3.1  ])"
      ]
     },
     "execution_count": 45,
     "metadata": {},
     "output_type": "execute_result"
    }
   ],
   "source": [
    "# Dependent variable(gpa)\n",
    "\n",
    "y"
   ]
  },
  {
   "cell_type": "code",
   "execution_count": 46,
   "id": "d4470f1e",
   "metadata": {},
   "outputs": [
    {
     "data": {
      "text/plain": [
       "<matplotlib.collections.PathCollection at 0x2733dc84400>"
      ]
     },
     "execution_count": 46,
     "metadata": {},
     "output_type": "execute_result"
    },
    {
     "data": {
      "image/png": "[encoded data removed]",
      "text/plain": [
       "<Figure size 640x480 with 1 Axes>"
      ]
     },
     "metadata": {},
     "output_type": "display_data"
    }
   ],
   "source": [
    "# Plotting scatter plot to check the relation between study_hours and gpa\n",
    "\n",
    "import matplotlib.pyplot as plt\n",
    "scatter=plt.scatter(x,y,color=\"green\")\n",
    "scatter"
   ]
  },
  {
   "cell_type": "code",
   "execution_count": 47,
   "id": "f5cfdf5c",
   "metadata": {},
   "outputs": [
    {
     "data": {
      "text/plain": [
       "<AxesSubplot:xlabel='study_hours', ylabel='gpa'>"
      ]
     },
     "execution_count": 47,
     "metadata": {},
     "output_type": "execute_result"
    },
    {
     "data": {
      "image/png": "[encoded data removed]",
      "text/plain": [
       "<Figure size 640x480 with 1 Axes>"
      ]
     },
     "metadata": {},
     "output_type": "display_data"
    }
   ],
   "source": [
    "# Plotting the regression plot\n",
    "\n",
    "sns.regplot(x=\"study_hours\",y=\"gpa\",data=df)"
   ]
  },
  {
   "cell_type": "code",
   "execution_count": 48,
   "id": "4540a4db",
   "metadata": {},
   "outputs": [],
   "source": [
    "# Splitting the dataset for training set and testing set\n",
    "\n",
    "from sklearn.model_selection import train_test_split\n",
    "x_train,x_test,y_train,y_test = train_test_split(x,y,test_size=0.3,random_state = 0)"
   ]
  },
  {
   "cell_type": "code",
   "execution_count": 49,
   "id": "6b64a13a",
   "metadata": {},
   "outputs": [
    {
     "data": {
      "text/plain": [
       "LinearRegression()"
      ]
     },
     "execution_count": 49,
     "metadata": {},
     "output_type": "execute_result"
    }
   ],
   "source": [
    "# Fitting Linear regression model to the training set\n",
    "\n",
    "from sklearn.linear_model import LinearRegression\n",
    "regressor = LinearRegression()\n",
    "regressor.fit(x_train,y_train)"
   ]
  },
  {
   "cell_type": "code",
   "execution_count": 50,
   "id": "9ab3a6cb",
   "metadata": {},
   "outputs": [],
   "source": [
    "# Predicting the Test set results\n",
    "\n",
    "y_pred=regressor.predict(x_test)"
   ]
  },
  {
   "cell_type": "code",
   "execution_count": 51,
   "id": "a3c46877",
   "metadata": {},
   "outputs": [
    {
     "data": {
      "text/plain": [
       "array([3.60815699, 3.55849651, 3.55849651, 3.53721345, 3.57268522,\n",
       "       3.55849651, 3.55140216, 3.6223457 , 3.5762324 , 3.66491183,\n",
       "       3.55849651, 3.59396829, 3.61170417, 3.59396829, 3.55849651,\n",
       "       3.61170417, 3.61170417, 3.55849651, 3.59396829, 3.5762324 ,\n",
       "       3.57268522, 3.53366627, 3.57268522, 3.55140216, 3.5762324 ,\n",
       "       3.55140216, 3.54785498, 3.54430781, 3.55849651, 3.57268522,\n",
       "       3.62944006, 3.53721345, 3.54076063, 3.54076063, 3.56559087,\n",
       "       3.73585537, 3.55849651, 3.55140216, 3.55849651, 3.56736446,\n",
       "       3.55849651, 3.59396829, 3.66491183, 3.54608139, 3.55849651,\n",
       "       3.68264771, 3.55849651, 3.55849651, 3.54785498, 3.59396829,\n",
       "       3.53721345, 3.5301191 , 3.54785498, 3.54785498, 3.62944006,\n",
       "       3.62944006, 3.56559087, 3.55849651])"
      ]
     },
     "execution_count": 51,
     "metadata": {},
     "output_type": "execute_result"
    }
   ],
   "source": [
    "# Displaying y_predict(Predicted gpa)\n",
    "\n",
    "y_pred"
   ]
  },
  {
   "cell_type": "code",
   "execution_count": 52,
   "id": "d68b4e77",
   "metadata": {},
   "outputs": [
    {
     "name": "stdout",
     "output_type": "stream",
     "text": [
      "RMSE = 0.2280778226667648\n",
      "R2 Score= 0.018510307109502522\n"
     ]
    }
   ],
   "source": [
    "# Checking accuracy of the model\n",
    "\n",
    "from sklearn.metrics import r2_score\n",
    "from sklearn.metrics import mean_squared_error\n",
    "\n",
    "rmse = np.sqrt(mean_squared_error(y_test,y_pred))\n",
    "r2 = r2_score(y_test,y_pred)                            \n",
    "\n",
    "print(\"RMSE =\", rmse)\n",
    "print(\"R2 Score=\",r2)"
   ]
  }
 ],
 "metadata": {
  "kernelspec": {
   "display_name": "Python 3 (ipykernel)",
   "language": "python",
   "name": "python3"
  },
  "language_info": {
   "codemirror_mode": {
    "name": "ipython",
    "version": 3
   },
   "file_extension": ".py",
   "mimetype": "text/x-python",
   "name": "python",
   "nbconvert_exporter": "python",
   "pygments_lexer": "ipython3",
   "version": "3.9.13"
  }
 },
 "nbformat": 4,
 "nbformat_minor": 5
}
